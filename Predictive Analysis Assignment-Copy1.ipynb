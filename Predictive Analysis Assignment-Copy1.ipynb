{
 "cells": [
  {
   "cell_type": "code",
   "execution_count": 6,
   "id": "03adf78c",
   "metadata": {},
   "outputs": [],
   "source": [
    "# Importing Libraries for the Project\n",
    "import pandas as pd\n",
    "import numpy as np\n",
    "import matplotlib.pyplot as plt\n",
    "import seaborn as sns"
   ]
  },
  {
   "cell_type": "code",
   "execution_count": null,
   "id": "aa837bb2",
   "metadata": {},
   "outputs": [],
   "source": [
    "# Importing raw data"
   ]
  },
  {
   "cell_type": "code",
   "execution_count": 32,
   "id": "c2149d4b",
   "metadata": {
    "scrolled": true
   },
   "outputs": [
    {
     "data": {
      "text/html": [
       "<div>\n",
       "<style scoped>\n",
       "    .dataframe tbody tr th:only-of-type {\n",
       "        vertical-align: middle;\n",
       "    }\n",
       "\n",
       "    .dataframe tbody tr th {\n",
       "        vertical-align: top;\n",
       "    }\n",
       "\n",
       "    .dataframe thead th {\n",
       "        text-align: right;\n",
       "    }\n",
       "</style>\n",
       "<table border=\"1\" class=\"dataframe\">\n",
       "  <thead>\n",
       "    <tr style=\"text-align: right;\">\n",
       "      <th></th>\n",
       "      <th>TARGET_B</th>\n",
       "      <th>TARGET_D</th>\n",
       "      <th>CONTROL_NUMBER</th>\n",
       "      <th>MONTHS_SINCE_ORIGIN</th>\n",
       "      <th>DONOR_AGE</th>\n",
       "      <th>IN_HOUSE</th>\n",
       "      <th>URBANICITY</th>\n",
       "      <th>SES</th>\n",
       "      <th>CLUSTER_CODE</th>\n",
       "      <th>HOME_OWNER</th>\n",
       "      <th>...</th>\n",
       "      <th>LIFETIME_GIFT_RANGE</th>\n",
       "      <th>LIFETIME_MAX_GIFT_AMT</th>\n",
       "      <th>LIFETIME_MIN_GIFT_AMT</th>\n",
       "      <th>LAST_GIFT_AMT</th>\n",
       "      <th>CARD_PROM_12</th>\n",
       "      <th>NUMBER_PROM_12</th>\n",
       "      <th>MONTHS_SINCE_LAST_GIFT</th>\n",
       "      <th>MONTHS_SINCE_FIRST_GIFT</th>\n",
       "      <th>FILE_AVG_GIFT</th>\n",
       "      <th>FILE_CARD_GIFT</th>\n",
       "    </tr>\n",
       "  </thead>\n",
       "  <tbody>\n",
       "    <tr>\n",
       "      <th>0</th>\n",
       "      <td>0</td>\n",
       "      <td>NaN</td>\n",
       "      <td>5</td>\n",
       "      <td>101</td>\n",
       "      <td>87.0</td>\n",
       "      <td>0</td>\n",
       "      <td>?</td>\n",
       "      <td>?</td>\n",
       "      <td>.</td>\n",
       "      <td>H</td>\n",
       "      <td>...</td>\n",
       "      <td>15.0</td>\n",
       "      <td>20.0</td>\n",
       "      <td>5.0</td>\n",
       "      <td>15.0</td>\n",
       "      <td>5</td>\n",
       "      <td>12</td>\n",
       "      <td>26</td>\n",
       "      <td>92</td>\n",
       "      <td>8.49</td>\n",
       "      <td>7</td>\n",
       "    </tr>\n",
       "    <tr>\n",
       "      <th>1</th>\n",
       "      <td>1</td>\n",
       "      <td>10.0</td>\n",
       "      <td>12</td>\n",
       "      <td>137</td>\n",
       "      <td>79.0</td>\n",
       "      <td>0</td>\n",
       "      <td>R</td>\n",
       "      <td>2</td>\n",
       "      <td>45</td>\n",
       "      <td>H</td>\n",
       "      <td>...</td>\n",
       "      <td>20.0</td>\n",
       "      <td>25.0</td>\n",
       "      <td>5.0</td>\n",
       "      <td>17.0</td>\n",
       "      <td>7</td>\n",
       "      <td>21</td>\n",
       "      <td>7</td>\n",
       "      <td>122</td>\n",
       "      <td>14.72</td>\n",
       "      <td>12</td>\n",
       "    </tr>\n",
       "    <tr>\n",
       "      <th>2</th>\n",
       "      <td>0</td>\n",
       "      <td>NaN</td>\n",
       "      <td>37</td>\n",
       "      <td>113</td>\n",
       "      <td>75.0</td>\n",
       "      <td>0</td>\n",
       "      <td>S</td>\n",
       "      <td>1</td>\n",
       "      <td>11</td>\n",
       "      <td>H</td>\n",
       "      <td>...</td>\n",
       "      <td>23.0</td>\n",
       "      <td>28.0</td>\n",
       "      <td>5.0</td>\n",
       "      <td>19.0</td>\n",
       "      <td>11</td>\n",
       "      <td>32</td>\n",
       "      <td>6</td>\n",
       "      <td>105</td>\n",
       "      <td>16.75</td>\n",
       "      <td>16</td>\n",
       "    </tr>\n",
       "    <tr>\n",
       "      <th>3</th>\n",
       "      <td>0</td>\n",
       "      <td>NaN</td>\n",
       "      <td>38</td>\n",
       "      <td>92</td>\n",
       "      <td>NaN</td>\n",
       "      <td>0</td>\n",
       "      <td>U</td>\n",
       "      <td>2</td>\n",
       "      <td>04</td>\n",
       "      <td>H</td>\n",
       "      <td>...</td>\n",
       "      <td>14.0</td>\n",
       "      <td>17.0</td>\n",
       "      <td>3.0</td>\n",
       "      <td>15.0</td>\n",
       "      <td>11</td>\n",
       "      <td>33</td>\n",
       "      <td>6</td>\n",
       "      <td>92</td>\n",
       "      <td>11.76</td>\n",
       "      <td>12</td>\n",
       "    </tr>\n",
       "    <tr>\n",
       "      <th>4</th>\n",
       "      <td>0</td>\n",
       "      <td>NaN</td>\n",
       "      <td>41</td>\n",
       "      <td>101</td>\n",
       "      <td>74.0</td>\n",
       "      <td>0</td>\n",
       "      <td>R</td>\n",
       "      <td>2</td>\n",
       "      <td>49</td>\n",
       "      <td>U</td>\n",
       "      <td>...</td>\n",
       "      <td>20.0</td>\n",
       "      <td>25.0</td>\n",
       "      <td>5.0</td>\n",
       "      <td>25.0</td>\n",
       "      <td>6</td>\n",
       "      <td>19</td>\n",
       "      <td>18</td>\n",
       "      <td>92</td>\n",
       "      <td>8.83</td>\n",
       "      <td>3</td>\n",
       "    </tr>\n",
       "    <tr>\n",
       "      <th>5</th>\n",
       "      <td>0</td>\n",
       "      <td>NaN</td>\n",
       "      <td>52</td>\n",
       "      <td>101</td>\n",
       "      <td>63.0</td>\n",
       "      <td>0</td>\n",
       "      <td>U</td>\n",
       "      <td>3</td>\n",
       "      <td>08</td>\n",
       "      <td>U</td>\n",
       "      <td>...</td>\n",
       "      <td>7.0</td>\n",
       "      <td>10.0</td>\n",
       "      <td>3.0</td>\n",
       "      <td>10.0</td>\n",
       "      <td>9</td>\n",
       "      <td>20</td>\n",
       "      <td>19</td>\n",
       "      <td>91</td>\n",
       "      <td>5.82</td>\n",
       "      <td>6</td>\n",
       "    </tr>\n",
       "    <tr>\n",
       "      <th>6</th>\n",
       "      <td>0</td>\n",
       "      <td>NaN</td>\n",
       "      <td>53</td>\n",
       "      <td>89</td>\n",
       "      <td>71.0</td>\n",
       "      <td>0</td>\n",
       "      <td>R</td>\n",
       "      <td>3</td>\n",
       "      <td>50</td>\n",
       "      <td>H</td>\n",
       "      <td>...</td>\n",
       "      <td>15.0</td>\n",
       "      <td>20.0</td>\n",
       "      <td>5.0</td>\n",
       "      <td>20.0</td>\n",
       "      <td>7</td>\n",
       "      <td>18</td>\n",
       "      <td>21</td>\n",
       "      <td>91</td>\n",
       "      <td>11.00</td>\n",
       "      <td>8</td>\n",
       "    </tr>\n",
       "    <tr>\n",
       "      <th>7</th>\n",
       "      <td>1</td>\n",
       "      <td>5.0</td>\n",
       "      <td>67</td>\n",
       "      <td>89</td>\n",
       "      <td>79.0</td>\n",
       "      <td>0</td>\n",
       "      <td>C</td>\n",
       "      <td>2</td>\n",
       "      <td>28</td>\n",
       "      <td>H</td>\n",
       "      <td>...</td>\n",
       "      <td>4.0</td>\n",
       "      <td>7.0</td>\n",
       "      <td>3.0</td>\n",
       "      <td>5.0</td>\n",
       "      <td>9</td>\n",
       "      <td>24</td>\n",
       "      <td>9</td>\n",
       "      <td>91</td>\n",
       "      <td>5.05</td>\n",
       "      <td>8</td>\n",
       "    </tr>\n",
       "    <tr>\n",
       "      <th>8</th>\n",
       "      <td>0</td>\n",
       "      <td>NaN</td>\n",
       "      <td>70</td>\n",
       "      <td>89</td>\n",
       "      <td>41.0</td>\n",
       "      <td>0</td>\n",
       "      <td>C</td>\n",
       "      <td>3</td>\n",
       "      <td>30</td>\n",
       "      <td>H</td>\n",
       "      <td>...</td>\n",
       "      <td>4.0</td>\n",
       "      <td>7.0</td>\n",
       "      <td>3.0</td>\n",
       "      <td>5.0</td>\n",
       "      <td>11</td>\n",
       "      <td>25</td>\n",
       "      <td>17</td>\n",
       "      <td>91</td>\n",
       "      <td>5.03</td>\n",
       "      <td>14</td>\n",
       "    </tr>\n",
       "    <tr>\n",
       "      <th>9</th>\n",
       "      <td>1</td>\n",
       "      <td>16.0</td>\n",
       "      <td>71</td>\n",
       "      <td>101</td>\n",
       "      <td>63.0</td>\n",
       "      <td>0</td>\n",
       "      <td>R</td>\n",
       "      <td>2</td>\n",
       "      <td>43</td>\n",
       "      <td>H</td>\n",
       "      <td>...</td>\n",
       "      <td>8.0</td>\n",
       "      <td>11.0</td>\n",
       "      <td>3.0</td>\n",
       "      <td>8.0</td>\n",
       "      <td>11</td>\n",
       "      <td>27</td>\n",
       "      <td>9</td>\n",
       "      <td>91</td>\n",
       "      <td>6.82</td>\n",
       "      <td>13</td>\n",
       "    </tr>\n",
       "  </tbody>\n",
       "</table>\n",
       "<p>10 rows × 50 columns</p>\n",
       "</div>"
      ],
      "text/plain": [
       "   TARGET_B  TARGET_D  CONTROL_NUMBER  MONTHS_SINCE_ORIGIN  DONOR_AGE  \\\n",
       "0         0       NaN               5                  101       87.0   \n",
       "1         1      10.0              12                  137       79.0   \n",
       "2         0       NaN              37                  113       75.0   \n",
       "3         0       NaN              38                   92        NaN   \n",
       "4         0       NaN              41                  101       74.0   \n",
       "5         0       NaN              52                  101       63.0   \n",
       "6         0       NaN              53                   89       71.0   \n",
       "7         1       5.0              67                   89       79.0   \n",
       "8         0       NaN              70                   89       41.0   \n",
       "9         1      16.0              71                  101       63.0   \n",
       "\n",
       "   IN_HOUSE URBANICITY SES CLUSTER_CODE HOME_OWNER  ... LIFETIME_GIFT_RANGE  \\\n",
       "0         0          ?   ?            .          H  ...                15.0   \n",
       "1         0          R   2           45          H  ...                20.0   \n",
       "2         0          S   1           11          H  ...                23.0   \n",
       "3         0          U   2           04          H  ...                14.0   \n",
       "4         0          R   2           49          U  ...                20.0   \n",
       "5         0          U   3           08          U  ...                 7.0   \n",
       "6         0          R   3           50          H  ...                15.0   \n",
       "7         0          C   2           28          H  ...                 4.0   \n",
       "8         0          C   3           30          H  ...                 4.0   \n",
       "9         0          R   2           43          H  ...                 8.0   \n",
       "\n",
       "   LIFETIME_MAX_GIFT_AMT  LIFETIME_MIN_GIFT_AMT LAST_GIFT_AMT  CARD_PROM_12  \\\n",
       "0                   20.0                    5.0          15.0             5   \n",
       "1                   25.0                    5.0          17.0             7   \n",
       "2                   28.0                    5.0          19.0            11   \n",
       "3                   17.0                    3.0          15.0            11   \n",
       "4                   25.0                    5.0          25.0             6   \n",
       "5                   10.0                    3.0          10.0             9   \n",
       "6                   20.0                    5.0          20.0             7   \n",
       "7                    7.0                    3.0           5.0             9   \n",
       "8                    7.0                    3.0           5.0            11   \n",
       "9                   11.0                    3.0           8.0            11   \n",
       "\n",
       "   NUMBER_PROM_12  MONTHS_SINCE_LAST_GIFT  MONTHS_SINCE_FIRST_GIFT  \\\n",
       "0              12                      26                       92   \n",
       "1              21                       7                      122   \n",
       "2              32                       6                      105   \n",
       "3              33                       6                       92   \n",
       "4              19                      18                       92   \n",
       "5              20                      19                       91   \n",
       "6              18                      21                       91   \n",
       "7              24                       9                       91   \n",
       "8              25                      17                       91   \n",
       "9              27                       9                       91   \n",
       "\n",
       "   FILE_AVG_GIFT  FILE_CARD_GIFT  \n",
       "0           8.49               7  \n",
       "1          14.72              12  \n",
       "2          16.75              16  \n",
       "3          11.76              12  \n",
       "4           8.83               3  \n",
       "5           5.82               6  \n",
       "6          11.00               8  \n",
       "7           5.05               8  \n",
       "8           5.03              14  \n",
       "9           6.82              13  \n",
       "\n",
       "[10 rows x 50 columns]"
      ]
     },
     "execution_count": 32,
     "metadata": {},
     "output_type": "execute_result"
    }
   ],
   "source": [
    "df = pd.read_csv('C:\\\\Users\\\\DELL\\\\Desktop\\\\Donor Raw Data.csv')\n",
    "df.head(10)"
   ]
  },
  {
   "cell_type": "code",
   "execution_count": 33,
   "id": "3a43898e",
   "metadata": {},
   "outputs": [],
   "source": [
    "from sklearn.preprocessing import LabelEncoder, OneHotEncoder, scale, StandardScaler\n",
    "from sklearn.linear_model import LinearRegression, RidgeCV, LassoCV, Ridge, Lasso\n",
    "from sklearn import preprocessing\n",
    "from sklearn import linear_model\n",
    "from sklearn.metrics import mean_squared_error, r2_score\n",
    "from sklearn.model_selection import cross_val_score\n",
    "from sklearn.linear_model import LogisticRegression # LR algorithm - for CLASSIFICATION\n",
    "\n",
    "from sklearn.model_selection import train_test_split, GridSearchCV # modules for splitting our data\n",
    "# and gridsearch for optimizing hyperparameters (scenario analysis) in our iterative ML runs\n",
    "\n",
    "# performance metrics for machine learning\n",
    "from sklearn.metrics import accuracy_score, roc_auc_score, confusion_matrix, precision_score, recall_score, classification_report\n",
    "\n",
    "# advanced scaling pipeline\n",
    "from sklearn.pipeline import FeatureUnion, make_pipeline"
   ]
  },
  {
   "cell_type": "code",
   "execution_count": 34,
   "id": "5ad94e61",
   "metadata": {},
   "outputs": [],
   "source": [
    "RANDOM_STATE = 200"
   ]
  },
  {
   "cell_type": "code",
   "execution_count": 35,
   "id": "29fab05e",
   "metadata": {},
   "outputs": [
    {
     "data": {
      "text/plain": [
       "(19372, 50)"
      ]
     },
     "execution_count": 35,
     "metadata": {},
     "output_type": "execute_result"
    }
   ],
   "source": [
    "df.shape"
   ]
  },
  {
   "cell_type": "code",
   "execution_count": 36,
   "id": "7c6d7d4b",
   "metadata": {},
   "outputs": [],
   "source": [
    "# Evaluating the raw donor data"
   ]
  },
  {
   "cell_type": "code",
   "execution_count": 37,
   "id": "d91b08d1",
   "metadata": {},
   "outputs": [
    {
     "name": "stdout",
     "output_type": "stream",
     "text": [
      "<class 'pandas.core.frame.DataFrame'>\n",
      "RangeIndex: 19372 entries, 0 to 19371\n",
      "Data columns (total 50 columns):\n",
      " #   Column                       Non-Null Count  Dtype  \n",
      "---  ------                       --------------  -----  \n",
      " 0   TARGET_B                     19372 non-null  int64  \n",
      " 1   TARGET_D                     4843 non-null   float64\n",
      " 2   CONTROL_NUMBER               19372 non-null  int64  \n",
      " 3   MONTHS_SINCE_ORIGIN          19372 non-null  int64  \n",
      " 4   DONOR_AGE                    14577 non-null  float64\n",
      " 5   IN_HOUSE                     19372 non-null  int64  \n",
      " 6   URBANICITY                   19372 non-null  object \n",
      " 7   SES                          19372 non-null  object \n",
      " 8   CLUSTER_CODE                 19372 non-null  object \n",
      " 9   HOME_OWNER                   19372 non-null  object \n",
      " 10  DONOR_GENDER                 19372 non-null  object \n",
      " 11  INCOME_GROUP                 14980 non-null  float64\n",
      " 12  PUBLISHED_PHONE              19372 non-null  int64  \n",
      " 13  OVERLAY_SOURCE               19372 non-null  object \n",
      " 14  MOR_HIT_RATE                 19372 non-null  int64  \n",
      " 15  WEALTH_RATING                10562 non-null  float64\n",
      " 16  MEDIAN_HOME_VALUE            19372 non-null  int64  \n",
      " 17  MEDIAN_HOUSEHOLD_INCOME      19372 non-null  int64  \n",
      " 18  PCT_OWNER_OCCUPIED           19372 non-null  int64  \n",
      " 19  PER_CAPITA_INCOME            19372 non-null  int64  \n",
      " 20  PCT_ATTRIBUTE1               19372 non-null  int64  \n",
      " 21  PCT_ATTRIBUTE2               19372 non-null  int64  \n",
      " 22  PCT_ATTRIBUTE3               19372 non-null  int64  \n",
      " 23  PCT_ATTRIBUTE4               19372 non-null  int64  \n",
      " 24  PEP_STAR                     19372 non-null  int64  \n",
      " 25  RECENT_STAR_STATUS           19372 non-null  int64  \n",
      " 26  RECENCY_STATUS_96NK          19372 non-null  object \n",
      " 27  FREQUENCY_STATUS_97NK        19372 non-null  int64  \n",
      " 28  RECENT_RESPONSE_PROP         19372 non-null  float64\n",
      " 29  RECENT_AVG_GIFT_AMT          19372 non-null  float64\n",
      " 30  RECENT_CARD_RESPONSE_PROP    19372 non-null  float64\n",
      " 31  RECENT_AVG_CARD_GIFT_AMT     19372 non-null  float64\n",
      " 32  RECENT_RESPONSE_COUNT        19372 non-null  int64  \n",
      " 33  RECENT_CARD_RESPONSE_COUNT   19372 non-null  int64  \n",
      " 34  MONTHS_SINCE_LAST_PROM_RESP  19126 non-null  float64\n",
      " 35  LIFETIME_CARD_PROM           19372 non-null  int64  \n",
      " 36  LIFETIME_PROM                19372 non-null  int64  \n",
      " 37  LIFETIME_GIFT_AMOUNT         19372 non-null  float64\n",
      " 38  LIFETIME_GIFT_COUNT          19372 non-null  int64  \n",
      " 39  LIFETIME_AVG_GIFT_AMT        19372 non-null  float64\n",
      " 40  LIFETIME_GIFT_RANGE          19372 non-null  float64\n",
      " 41  LIFETIME_MAX_GIFT_AMT        19372 non-null  float64\n",
      " 42  LIFETIME_MIN_GIFT_AMT        19372 non-null  float64\n",
      " 43  LAST_GIFT_AMT                19372 non-null  float64\n",
      " 44  CARD_PROM_12                 19372 non-null  int64  \n",
      " 45  NUMBER_PROM_12               19372 non-null  int64  \n",
      " 46  MONTHS_SINCE_LAST_GIFT       19372 non-null  int64  \n",
      " 47  MONTHS_SINCE_FIRST_GIFT      19372 non-null  int64  \n",
      " 48  FILE_AVG_GIFT                19372 non-null  float64\n",
      " 49  FILE_CARD_GIFT               19372 non-null  int64  \n",
      "dtypes: float64(16), int64(27), object(7)\n",
      "memory usage: 7.4+ MB\n"
     ]
    }
   ],
   "source": [
    "df.info()"
   ]
  },
  {
   "cell_type": "code",
   "execution_count": 38,
   "id": "78383eb9",
   "metadata": {
    "scrolled": true
   },
   "outputs": [
    {
     "data": {
      "text/html": [
       "<div>\n",
       "<style scoped>\n",
       "    .dataframe tbody tr th:only-of-type {\n",
       "        vertical-align: middle;\n",
       "    }\n",
       "\n",
       "    .dataframe tbody tr th {\n",
       "        vertical-align: top;\n",
       "    }\n",
       "\n",
       "    .dataframe thead th {\n",
       "        text-align: right;\n",
       "    }\n",
       "</style>\n",
       "<table border=\"1\" class=\"dataframe\">\n",
       "  <thead>\n",
       "    <tr style=\"text-align: right;\">\n",
       "      <th></th>\n",
       "      <th>TARGET_B</th>\n",
       "      <th>TARGET_D</th>\n",
       "      <th>CONTROL_NUMBER</th>\n",
       "      <th>MONTHS_SINCE_ORIGIN</th>\n",
       "      <th>DONOR_AGE</th>\n",
       "      <th>IN_HOUSE</th>\n",
       "      <th>INCOME_GROUP</th>\n",
       "      <th>PUBLISHED_PHONE</th>\n",
       "      <th>MOR_HIT_RATE</th>\n",
       "      <th>WEALTH_RATING</th>\n",
       "      <th>...</th>\n",
       "      <th>LIFETIME_GIFT_RANGE</th>\n",
       "      <th>LIFETIME_MAX_GIFT_AMT</th>\n",
       "      <th>LIFETIME_MIN_GIFT_AMT</th>\n",
       "      <th>LAST_GIFT_AMT</th>\n",
       "      <th>CARD_PROM_12</th>\n",
       "      <th>NUMBER_PROM_12</th>\n",
       "      <th>MONTHS_SINCE_LAST_GIFT</th>\n",
       "      <th>MONTHS_SINCE_FIRST_GIFT</th>\n",
       "      <th>FILE_AVG_GIFT</th>\n",
       "      <th>FILE_CARD_GIFT</th>\n",
       "    </tr>\n",
       "  </thead>\n",
       "  <tbody>\n",
       "    <tr>\n",
       "      <th>count</th>\n",
       "      <td>19372.000000</td>\n",
       "      <td>4843.000000</td>\n",
       "      <td>19372.000000</td>\n",
       "      <td>19372.000000</td>\n",
       "      <td>14577.000000</td>\n",
       "      <td>19372.000000</td>\n",
       "      <td>14980.000000</td>\n",
       "      <td>19372.000000</td>\n",
       "      <td>19372.000000</td>\n",
       "      <td>10562.000000</td>\n",
       "      <td>...</td>\n",
       "      <td>19372.000000</td>\n",
       "      <td>19372.000000</td>\n",
       "      <td>19372.000000</td>\n",
       "      <td>19372.000000</td>\n",
       "      <td>19372.000000</td>\n",
       "      <td>19372.000000</td>\n",
       "      <td>19372.000000</td>\n",
       "      <td>19372.000000</td>\n",
       "      <td>19372.000000</td>\n",
       "      <td>19372.000000</td>\n",
       "    </tr>\n",
       "    <tr>\n",
       "      <th>mean</th>\n",
       "      <td>0.250000</td>\n",
       "      <td>15.624344</td>\n",
       "      <td>96546.225377</td>\n",
       "      <td>73.409973</td>\n",
       "      <td>58.919051</td>\n",
       "      <td>0.073198</td>\n",
       "      <td>3.907543</td>\n",
       "      <td>0.497729</td>\n",
       "      <td>3.361656</td>\n",
       "      <td>5.005397</td>\n",
       "      <td>...</td>\n",
       "      <td>11.587876</td>\n",
       "      <td>19.208808</td>\n",
       "      <td>7.620932</td>\n",
       "      <td>16.584199</td>\n",
       "      <td>5.367128</td>\n",
       "      <td>12.901869</td>\n",
       "      <td>18.191152</td>\n",
       "      <td>69.482088</td>\n",
       "      <td>12.858338</td>\n",
       "      <td>5.273591</td>\n",
       "    </tr>\n",
       "    <tr>\n",
       "      <th>std</th>\n",
       "      <td>0.433024</td>\n",
       "      <td>12.445137</td>\n",
       "      <td>55830.643871</td>\n",
       "      <td>41.255574</td>\n",
       "      <td>16.669382</td>\n",
       "      <td>0.260469</td>\n",
       "      <td>1.864796</td>\n",
       "      <td>0.500008</td>\n",
       "      <td>9.503481</td>\n",
       "      <td>2.815386</td>\n",
       "      <td>...</td>\n",
       "      <td>15.116893</td>\n",
       "      <td>16.101128</td>\n",
       "      <td>7.959786</td>\n",
       "      <td>11.977558</td>\n",
       "      <td>1.264205</td>\n",
       "      <td>4.642072</td>\n",
       "      <td>4.033065</td>\n",
       "      <td>37.568169</td>\n",
       "      <td>8.787758</td>\n",
       "      <td>4.607063</td>\n",
       "    </tr>\n",
       "    <tr>\n",
       "      <th>min</th>\n",
       "      <td>0.000000</td>\n",
       "      <td>1.000000</td>\n",
       "      <td>5.000000</td>\n",
       "      <td>5.000000</td>\n",
       "      <td>0.000000</td>\n",
       "      <td>0.000000</td>\n",
       "      <td>1.000000</td>\n",
       "      <td>0.000000</td>\n",
       "      <td>0.000000</td>\n",
       "      <td>0.000000</td>\n",
       "      <td>...</td>\n",
       "      <td>0.000000</td>\n",
       "      <td>5.000000</td>\n",
       "      <td>0.000000</td>\n",
       "      <td>0.000000</td>\n",
       "      <td>0.000000</td>\n",
       "      <td>2.000000</td>\n",
       "      <td>4.000000</td>\n",
       "      <td>15.000000</td>\n",
       "      <td>1.360000</td>\n",
       "      <td>0.000000</td>\n",
       "    </tr>\n",
       "    <tr>\n",
       "      <th>25%</th>\n",
       "      <td>0.000000</td>\n",
       "      <td>10.000000</td>\n",
       "      <td>48289.000000</td>\n",
       "      <td>29.000000</td>\n",
       "      <td>47.000000</td>\n",
       "      <td>0.000000</td>\n",
       "      <td>2.000000</td>\n",
       "      <td>0.000000</td>\n",
       "      <td>0.000000</td>\n",
       "      <td>3.000000</td>\n",
       "      <td>...</td>\n",
       "      <td>5.000000</td>\n",
       "      <td>12.000000</td>\n",
       "      <td>3.000000</td>\n",
       "      <td>10.000000</td>\n",
       "      <td>5.000000</td>\n",
       "      <td>11.000000</td>\n",
       "      <td>16.000000</td>\n",
       "      <td>33.000000</td>\n",
       "      <td>8.000000</td>\n",
       "      <td>2.000000</td>\n",
       "    </tr>\n",
       "    <tr>\n",
       "      <th>50%</th>\n",
       "      <td>0.000000</td>\n",
       "      <td>13.000000</td>\n",
       "      <td>96937.000000</td>\n",
       "      <td>65.000000</td>\n",
       "      <td>60.000000</td>\n",
       "      <td>0.000000</td>\n",
       "      <td>4.000000</td>\n",
       "      <td>0.000000</td>\n",
       "      <td>0.000000</td>\n",
       "      <td>5.000000</td>\n",
       "      <td>...</td>\n",
       "      <td>10.000000</td>\n",
       "      <td>16.000000</td>\n",
       "      <td>5.000000</td>\n",
       "      <td>15.000000</td>\n",
       "      <td>6.000000</td>\n",
       "      <td>12.000000</td>\n",
       "      <td>18.000000</td>\n",
       "      <td>65.000000</td>\n",
       "      <td>11.200000</td>\n",
       "      <td>4.000000</td>\n",
       "    </tr>\n",
       "    <tr>\n",
       "      <th>75%</th>\n",
       "      <td>0.250000</td>\n",
       "      <td>20.000000</td>\n",
       "      <td>145429.500000</td>\n",
       "      <td>113.000000</td>\n",
       "      <td>73.000000</td>\n",
       "      <td>0.000000</td>\n",
       "      <td>5.000000</td>\n",
       "      <td>1.000000</td>\n",
       "      <td>3.000000</td>\n",
       "      <td>7.000000</td>\n",
       "      <td>...</td>\n",
       "      <td>15.000000</td>\n",
       "      <td>21.000000</td>\n",
       "      <td>10.000000</td>\n",
       "      <td>20.000000</td>\n",
       "      <td>6.000000</td>\n",
       "      <td>13.000000</td>\n",
       "      <td>20.000000</td>\n",
       "      <td>105.000000</td>\n",
       "      <td>15.000000</td>\n",
       "      <td>8.000000</td>\n",
       "    </tr>\n",
       "    <tr>\n",
       "      <th>max</th>\n",
       "      <td>1.000000</td>\n",
       "      <td>200.000000</td>\n",
       "      <td>191779.000000</td>\n",
       "      <td>137.000000</td>\n",
       "      <td>87.000000</td>\n",
       "      <td>1.000000</td>\n",
       "      <td>7.000000</td>\n",
       "      <td>1.000000</td>\n",
       "      <td>241.000000</td>\n",
       "      <td>9.000000</td>\n",
       "      <td>...</td>\n",
       "      <td>997.000000</td>\n",
       "      <td>1000.000000</td>\n",
       "      <td>450.000000</td>\n",
       "      <td>450.000000</td>\n",
       "      <td>17.000000</td>\n",
       "      <td>64.000000</td>\n",
       "      <td>27.000000</td>\n",
       "      <td>260.000000</td>\n",
       "      <td>450.000000</td>\n",
       "      <td>41.000000</td>\n",
       "    </tr>\n",
       "  </tbody>\n",
       "</table>\n",
       "<p>8 rows × 43 columns</p>\n",
       "</div>"
      ],
      "text/plain": [
       "           TARGET_B     TARGET_D  CONTROL_NUMBER  MONTHS_SINCE_ORIGIN  \\\n",
       "count  19372.000000  4843.000000    19372.000000         19372.000000   \n",
       "mean       0.250000    15.624344    96546.225377            73.409973   \n",
       "std        0.433024    12.445137    55830.643871            41.255574   \n",
       "min        0.000000     1.000000        5.000000             5.000000   \n",
       "25%        0.000000    10.000000    48289.000000            29.000000   \n",
       "50%        0.000000    13.000000    96937.000000            65.000000   \n",
       "75%        0.250000    20.000000   145429.500000           113.000000   \n",
       "max        1.000000   200.000000   191779.000000           137.000000   \n",
       "\n",
       "          DONOR_AGE      IN_HOUSE  INCOME_GROUP  PUBLISHED_PHONE  \\\n",
       "count  14577.000000  19372.000000  14980.000000     19372.000000   \n",
       "mean      58.919051      0.073198      3.907543         0.497729   \n",
       "std       16.669382      0.260469      1.864796         0.500008   \n",
       "min        0.000000      0.000000      1.000000         0.000000   \n",
       "25%       47.000000      0.000000      2.000000         0.000000   \n",
       "50%       60.000000      0.000000      4.000000         0.000000   \n",
       "75%       73.000000      0.000000      5.000000         1.000000   \n",
       "max       87.000000      1.000000      7.000000         1.000000   \n",
       "\n",
       "       MOR_HIT_RATE  WEALTH_RATING  ...  LIFETIME_GIFT_RANGE  \\\n",
       "count  19372.000000   10562.000000  ...         19372.000000   \n",
       "mean       3.361656       5.005397  ...            11.587876   \n",
       "std        9.503481       2.815386  ...            15.116893   \n",
       "min        0.000000       0.000000  ...             0.000000   \n",
       "25%        0.000000       3.000000  ...             5.000000   \n",
       "50%        0.000000       5.000000  ...            10.000000   \n",
       "75%        3.000000       7.000000  ...            15.000000   \n",
       "max      241.000000       9.000000  ...           997.000000   \n",
       "\n",
       "       LIFETIME_MAX_GIFT_AMT  LIFETIME_MIN_GIFT_AMT  LAST_GIFT_AMT  \\\n",
       "count           19372.000000           19372.000000   19372.000000   \n",
       "mean               19.208808               7.620932      16.584199   \n",
       "std                16.101128               7.959786      11.977558   \n",
       "min                 5.000000               0.000000       0.000000   \n",
       "25%                12.000000               3.000000      10.000000   \n",
       "50%                16.000000               5.000000      15.000000   \n",
       "75%                21.000000              10.000000      20.000000   \n",
       "max              1000.000000             450.000000     450.000000   \n",
       "\n",
       "       CARD_PROM_12  NUMBER_PROM_12  MONTHS_SINCE_LAST_GIFT  \\\n",
       "count  19372.000000    19372.000000            19372.000000   \n",
       "mean       5.367128       12.901869               18.191152   \n",
       "std        1.264205        4.642072                4.033065   \n",
       "min        0.000000        2.000000                4.000000   \n",
       "25%        5.000000       11.000000               16.000000   \n",
       "50%        6.000000       12.000000               18.000000   \n",
       "75%        6.000000       13.000000               20.000000   \n",
       "max       17.000000       64.000000               27.000000   \n",
       "\n",
       "       MONTHS_SINCE_FIRST_GIFT  FILE_AVG_GIFT  FILE_CARD_GIFT  \n",
       "count             19372.000000   19372.000000    19372.000000  \n",
       "mean                 69.482088      12.858338        5.273591  \n",
       "std                  37.568169       8.787758        4.607063  \n",
       "min                  15.000000       1.360000        0.000000  \n",
       "25%                  33.000000       8.000000        2.000000  \n",
       "50%                  65.000000      11.200000        4.000000  \n",
       "75%                 105.000000      15.000000        8.000000  \n",
       "max                 260.000000     450.000000       41.000000  \n",
       "\n",
       "[8 rows x 43 columns]"
      ]
     },
     "execution_count": 38,
     "metadata": {},
     "output_type": "execute_result"
    }
   ],
   "source": [
    "df.describe()"
   ]
  },
  {
   "cell_type": "code",
   "execution_count": 39,
   "id": "6f941717",
   "metadata": {},
   "outputs": [
    {
     "data": {
      "text/plain": [
       "TARGET_B                           0\n",
       "TARGET_D                       14529\n",
       "CONTROL_NUMBER                     0\n",
       "MONTHS_SINCE_ORIGIN                0\n",
       "DONOR_AGE                       4795\n",
       "IN_HOUSE                           0\n",
       "URBANICITY                         0\n",
       "SES                                0\n",
       "CLUSTER_CODE                       0\n",
       "HOME_OWNER                         0\n",
       "DONOR_GENDER                       0\n",
       "INCOME_GROUP                    4392\n",
       "PUBLISHED_PHONE                    0\n",
       "OVERLAY_SOURCE                     0\n",
       "MOR_HIT_RATE                       0\n",
       "WEALTH_RATING                   8810\n",
       "MEDIAN_HOME_VALUE                  0\n",
       "MEDIAN_HOUSEHOLD_INCOME            0\n",
       "PCT_OWNER_OCCUPIED                 0\n",
       "PER_CAPITA_INCOME                  0\n",
       "PCT_ATTRIBUTE1                     0\n",
       "PCT_ATTRIBUTE2                     0\n",
       "PCT_ATTRIBUTE3                     0\n",
       "PCT_ATTRIBUTE4                     0\n",
       "PEP_STAR                           0\n",
       "RECENT_STAR_STATUS                 0\n",
       "RECENCY_STATUS_96NK                0\n",
       "FREQUENCY_STATUS_97NK              0\n",
       "RECENT_RESPONSE_PROP               0\n",
       "RECENT_AVG_GIFT_AMT                0\n",
       "RECENT_CARD_RESPONSE_PROP          0\n",
       "RECENT_AVG_CARD_GIFT_AMT           0\n",
       "RECENT_RESPONSE_COUNT              0\n",
       "RECENT_CARD_RESPONSE_COUNT         0\n",
       "MONTHS_SINCE_LAST_PROM_RESP      246\n",
       "LIFETIME_CARD_PROM                 0\n",
       "LIFETIME_PROM                      0\n",
       "LIFETIME_GIFT_AMOUNT               0\n",
       "LIFETIME_GIFT_COUNT                0\n",
       "LIFETIME_AVG_GIFT_AMT              0\n",
       "LIFETIME_GIFT_RANGE                0\n",
       "LIFETIME_MAX_GIFT_AMT              0\n",
       "LIFETIME_MIN_GIFT_AMT              0\n",
       "LAST_GIFT_AMT                      0\n",
       "CARD_PROM_12                       0\n",
       "NUMBER_PROM_12                     0\n",
       "MONTHS_SINCE_LAST_GIFT             0\n",
       "MONTHS_SINCE_FIRST_GIFT            0\n",
       "FILE_AVG_GIFT                      0\n",
       "FILE_CARD_GIFT                     0\n",
       "dtype: int64"
      ]
     },
     "execution_count": 39,
     "metadata": {},
     "output_type": "execute_result"
    }
   ],
   "source": [
    "df.isnull().sum() #count of null values in columns"
   ]
  },
  {
   "cell_type": "code",
   "execution_count": 40,
   "id": "e02e1f42",
   "metadata": {},
   "outputs": [],
   "source": [
    "#Below are fields with missing values\n",
    "#1)Target_D\n",
    "#2) Donor_Age, \n",
    "#3)Income_Group, \n",
    "#4)Wealth_Rating,\n",
    "#5)Months_Since_Last_Prom_Response\n",
    "# I will employ the median function to fill in the missing values and use deletion to remove negligible missing values"
   ]
  },
  {
   "cell_type": "code",
   "execution_count": 41,
   "id": "e09e024b",
   "metadata": {},
   "outputs": [
    {
     "data": {
      "text/plain": [
       "60.0"
      ]
     },
     "execution_count": 41,
     "metadata": {},
     "output_type": "execute_result"
    }
   ],
   "source": [
    "df['DONOR_AGE'].median()"
   ]
  },
  {
   "cell_type": "code",
   "execution_count": 42,
   "id": "8ca53cde",
   "metadata": {},
   "outputs": [
    {
     "data": {
      "text/plain": [
       "4.0"
      ]
     },
     "execution_count": 42,
     "metadata": {},
     "output_type": "execute_result"
    }
   ],
   "source": [
    "df['INCOME_GROUP'].median()"
   ]
  },
  {
   "cell_type": "code",
   "execution_count": 45,
   "id": "05366c74",
   "metadata": {},
   "outputs": [],
   "source": [
    "df.DONOR_AGE.replace(np.nan, 60.0, inplace=True)"
   ]
  },
  {
   "cell_type": "code",
   "execution_count": 51,
   "id": "9f7c9df6",
   "metadata": {},
   "outputs": [],
   "source": [
    "#MONTHS_SINCE_LAST_PROM_RESP have 246 missing values. This is number is negligible based on the size of the data.\n",
    "# Hence, i am employing deletion \n",
    "\n",
    "df['MONTHS_SINCE_LAST_PROM_RESP'] = df['MONTHS_SINCE_LAST_PROM_RESP'].replace('', np.nan)\n",
    "df = df.dropna(axis=0, subset=['MONTHS_SINCE_LAST_PROM_RESP'])"
   ]
  },
  {
   "cell_type": "code",
   "execution_count": 46,
   "id": "9400f185",
   "metadata": {},
   "outputs": [
    {
     "data": {
      "text/plain": [
       "<AxesSubplot:xlabel='INCOME_GROUP', ylabel='WEALTH_RATING'>"
      ]
     },
     "execution_count": 46,
     "metadata": {},
     "output_type": "execute_result"
    },
    {
     "data": {
      "image/png": "[encoded data removed]",
      "text/plain": [
       "<Figure size 1000x500 with 1 Axes>"
      ]
     },
     "metadata": {},
     "output_type": "display_data"
    }
   ],
   "source": [
    "# CHECKING THE RELATIONSHIP BETWEEN WEALTH RATING AND INCOME USING BOX PLOT\n",
    "plt.figure(figsize=(10, 5))\n",
    "sns.boxplot(y='WEALTH_RATING',x='INCOME_GROUP',data=df,palette='winter')"
   ]
  },
  {
   "cell_type": "code",
   "execution_count": 48,
   "id": "e127b0d7",
   "metadata": {},
   "outputs": [],
   "source": [
    "#The box plot shows that the wealth group of a person depends on the income_group\n",
    "#Using this relationship to impute missing wealth_rating based on the corresponding Income group\n",
    "#Adopting the mean values for each group from the box plot above"
   ]
  },
  {
   "cell_type": "code",
   "execution_count": 49,
   "id": "e234d0f8",
   "metadata": {},
   "outputs": [],
   "source": [
    "def impute_wealthr(cols):\n",
    "    wealthr = cols[0]\n",
    "    incomeg = cols[1]\n",
    "    \n",
    "    if pd.isnull(wealthr):\n",
    "\n",
    "        if incomeg == 1:\n",
    "            return 3\n",
    "\n",
    "        elif incomeg == 2:\n",
    "            return 4\n",
    "        \n",
    "        elif incomeg == 3:\n",
    "            return 5\n",
    "        \n",
    "        elif incomeg == 4:\n",
    "            return 5\n",
    "        \n",
    "        elif incomeg == 5:\n",
    "            return 6\n",
    "        \n",
    "        elif incomeg == 6:\n",
    "            return 7\n",
    "        \n",
    "        else:\n",
    "            return 8\n",
    "\n",
    "    else:\n",
    "        return wealthr"
   ]
  },
  {
   "cell_type": "code",
   "execution_count": 50,
   "id": "271552ed",
   "metadata": {},
   "outputs": [],
   "source": [
    "df['WEALTH_RATING'] = df[['WEALTH_RATING','INCOME_GROUP']].apply(impute_wealthr,axis=1)"
   ]
  },
  {
   "cell_type": "code",
   "execution_count": 53,
   "id": "4ba0d037",
   "metadata": {},
   "outputs": [],
   "source": [
    "df.INCOME_GROUP.replace(np.nan, 4.0, inplace=True)"
   ]
  },
  {
   "cell_type": "code",
   "execution_count": 56,
   "id": "d3292f42",
   "metadata": {},
   "outputs": [],
   "source": [
    "df.TARGET_D.replace(np.nan, 0.0, inplace=True)"
   ]
  },
  {
   "cell_type": "code",
   "execution_count": 57,
   "id": "f338b145",
   "metadata": {},
   "outputs": [
    {
     "data": {
      "text/plain": [
       "TARGET_B                       0\n",
       "TARGET_D                       0\n",
       "CONTROL_NUMBER                 0\n",
       "MONTHS_SINCE_ORIGIN            0\n",
       "DONOR_AGE                      0\n",
       "IN_HOUSE                       0\n",
       "URBANICITY                     0\n",
       "SES                            0\n",
       "CLUSTER_CODE                   0\n",
       "HOME_OWNER                     0\n",
       "DONOR_GENDER                   0\n",
       "INCOME_GROUP                   0\n",
       "PUBLISHED_PHONE                0\n",
       "OVERLAY_SOURCE                 0\n",
       "MOR_HIT_RATE                   0\n",
       "WEALTH_RATING                  0\n",
       "MEDIAN_HOME_VALUE              0\n",
       "MEDIAN_HOUSEHOLD_INCOME        0\n",
       "PCT_OWNER_OCCUPIED             0\n",
       "PER_CAPITA_INCOME              0\n",
       "PCT_ATTRIBUTE1                 0\n",
       "PCT_ATTRIBUTE2                 0\n",
       "PCT_ATTRIBUTE3                 0\n",
       "PCT_ATTRIBUTE4                 0\n",
       "PEP_STAR                       0\n",
       "RECENT_STAR_STATUS             0\n",
       "RECENCY_STATUS_96NK            0\n",
       "FREQUENCY_STATUS_97NK          0\n",
       "RECENT_RESPONSE_PROP           0\n",
       "RECENT_AVG_GIFT_AMT            0\n",
       "RECENT_CARD_RESPONSE_PROP      0\n",
       "RECENT_AVG_CARD_GIFT_AMT       0\n",
       "RECENT_RESPONSE_COUNT          0\n",
       "RECENT_CARD_RESPONSE_COUNT     0\n",
       "MONTHS_SINCE_LAST_PROM_RESP    0\n",
       "LIFETIME_CARD_PROM             0\n",
       "LIFETIME_PROM                  0\n",
       "LIFETIME_GIFT_AMOUNT           0\n",
       "LIFETIME_GIFT_COUNT            0\n",
       "LIFETIME_AVG_GIFT_AMT          0\n",
       "LIFETIME_GIFT_RANGE            0\n",
       "LIFETIME_MAX_GIFT_AMT          0\n",
       "LIFETIME_MIN_GIFT_AMT          0\n",
       "LAST_GIFT_AMT                  0\n",
       "CARD_PROM_12                   0\n",
       "NUMBER_PROM_12                 0\n",
       "MONTHS_SINCE_LAST_GIFT         0\n",
       "MONTHS_SINCE_FIRST_GIFT        0\n",
       "FILE_AVG_GIFT                  0\n",
       "FILE_CARD_GIFT                 0\n",
       "dtype: int64"
      ]
     },
     "execution_count": 57,
     "metadata": {},
     "output_type": "execute_result"
    }
   ],
   "source": [
    "df.isnull().sum()"
   ]
  },
  {
   "cell_type": "code",
   "execution_count": null,
   "id": "963ab1a8",
   "metadata": {},
   "outputs": [],
   "source": [
    "#CLUSTER_CODE column have ' .' as some of the values. \n",
    "#These values will be replaced with \"0\" to avoid errors for the trained model"
   ]
  },
  {
   "cell_type": "code",
   "execution_count": 58,
   "id": "b48b1006",
   "metadata": {},
   "outputs": [],
   "source": [
    "df['CLUSTER_CODE'].replace(' .',0,inplace = True)"
   ]
  },
  {
   "cell_type": "code",
   "execution_count": null,
   "id": "ea5646e4",
   "metadata": {},
   "outputs": [],
   "source": []
  },
  {
   "cell_type": "code",
   "execution_count": 59,
   "id": "30e35092",
   "metadata": {},
   "outputs": [
    {
     "data": {
      "text/plain": [
       "Index(['TARGET_B', 'TARGET_D', 'CONTROL_NUMBER', 'MONTHS_SINCE_ORIGIN',\n",
       "       'DONOR_AGE', 'IN_HOUSE', 'URBANICITY', 'SES', 'CLUSTER_CODE',\n",
       "       'HOME_OWNER', 'DONOR_GENDER', 'INCOME_GROUP', 'PUBLISHED_PHONE',\n",
       "       'OVERLAY_SOURCE', 'MOR_HIT_RATE', 'WEALTH_RATING', 'MEDIAN_HOME_VALUE',\n",
       "       'MEDIAN_HOUSEHOLD_INCOME', 'PCT_OWNER_OCCUPIED', 'PER_CAPITA_INCOME',\n",
       "       'PCT_ATTRIBUTE1', 'PCT_ATTRIBUTE2', 'PCT_ATTRIBUTE3', 'PCT_ATTRIBUTE4',\n",
       "       'PEP_STAR', 'RECENT_STAR_STATUS', 'RECENCY_STATUS_96NK',\n",
       "       'FREQUENCY_STATUS_97NK', 'RECENT_RESPONSE_PROP', 'RECENT_AVG_GIFT_AMT',\n",
       "       'RECENT_CARD_RESPONSE_PROP', 'RECENT_AVG_CARD_GIFT_AMT',\n",
       "       'RECENT_RESPONSE_COUNT', 'RECENT_CARD_RESPONSE_COUNT',\n",
       "       'MONTHS_SINCE_LAST_PROM_RESP', 'LIFETIME_CARD_PROM', 'LIFETIME_PROM',\n",
       "       'LIFETIME_GIFT_AMOUNT', 'LIFETIME_GIFT_COUNT', 'LIFETIME_AVG_GIFT_AMT',\n",
       "       'LIFETIME_GIFT_RANGE', 'LIFETIME_MAX_GIFT_AMT', 'LIFETIME_MIN_GIFT_AMT',\n",
       "       'LAST_GIFT_AMT', 'CARD_PROM_12', 'NUMBER_PROM_12',\n",
       "       'MONTHS_SINCE_LAST_GIFT', 'MONTHS_SINCE_FIRST_GIFT', 'FILE_AVG_GIFT',\n",
       "       'FILE_CARD_GIFT'],\n",
       "      dtype='object')"
      ]
     },
     "execution_count": 59,
     "metadata": {},
     "output_type": "execute_result"
    }
   ],
   "source": [
    "#For easy reference, using .columns to get the names of the columns\n",
    "df.columns"
   ]
  },
  {
   "cell_type": "code",
   "execution_count": 60,
   "id": "909ec3fd",
   "metadata": {},
   "outputs": [
    {
     "name": "stdout",
     "output_type": "stream",
     "text": [
      "   TARGET_B  TARGET_D  CONTROL_NUMBER  MONTHS_SINCE_ORIGIN  DONOR_AGE  \\\n",
      "0         0       0.0               5                  101       87.0   \n",
      "1         1      10.0              12                  137       79.0   \n",
      "2         0       0.0              37                  113       75.0   \n",
      "3         0       0.0              38                   92       60.0   \n",
      "4         0       0.0              41                  101       74.0   \n",
      "\n",
      "   IN_HOUSE CLUSTER_CODE  INCOME_GROUP  PUBLISHED_PHONE  MOR_HIT_RATE  ...  \\\n",
      "0         0            0           2.0                0             0  ...   \n",
      "1         0           45           7.0                0             0  ...   \n",
      "2         0           11           5.0                0             0  ...   \n",
      "3         0           04           6.0                1             0  ...   \n",
      "4         0           49           2.0                1             8  ...   \n",
      "\n",
      "   DONOR_GENDER_M  DONOR_GENDER_U  OVERLAY_SOURCE_M  OVERLAY_SOURCE_N  \\\n",
      "0               1               0                 0                 0   \n",
      "1               1               0                 0                 0   \n",
      "2               0               0                 0                 0   \n",
      "3               0               0                 0                 0   \n",
      "4               0               0                 0                 0   \n",
      "\n",
      "   OVERLAY_SOURCE_P  RECENCY_STATUS_96NK_E  RECENCY_STATUS_96NK_F  \\\n",
      "0                 1                      0                      0   \n",
      "1                 1                      0                      0   \n",
      "2                 1                      0                      0   \n",
      "3                 0                      0                      0   \n",
      "4                 0                      0                      0   \n",
      "\n",
      "   RECENCY_STATUS_96NK_L  RECENCY_STATUS_96NK_N  RECENCY_STATUS_96NK_S  \n",
      "0                      0                      0                      0  \n",
      "1                      0                      0                      1  \n",
      "2                      0                      0                      1  \n",
      "3                      0                      0                      0  \n",
      "4                      0                      0                      0  \n",
      "\n",
      "[5 rows x 65 columns]\n"
     ]
    }
   ],
   "source": [
    "# Now to use pd.get_dummies to transform categorical columns\n",
    "expanded_df =pd.get_dummies(df, columns=['URBANICITY','SES','HOME_OWNER', 'DONOR_GENDER', 'OVERLAY_SOURCE', 'RECENCY_STATUS_96NK'], drop_first = True)\n",
    "print(expanded_df.head())"
   ]
  },
  {
   "cell_type": "code",
   "execution_count": 61,
   "id": "58b02d25",
   "metadata": {},
   "outputs": [
    {
     "data": {
      "text/plain": [
       "Index(['TARGET_B', 'TARGET_D', 'CONTROL_NUMBER', 'MONTHS_SINCE_ORIGIN',\n",
       "       'DONOR_AGE', 'IN_HOUSE', 'CLUSTER_CODE', 'INCOME_GROUP',\n",
       "       'PUBLISHED_PHONE', 'MOR_HIT_RATE', 'WEALTH_RATING', 'MEDIAN_HOME_VALUE',\n",
       "       'MEDIAN_HOUSEHOLD_INCOME', 'PCT_OWNER_OCCUPIED', 'PER_CAPITA_INCOME',\n",
       "       'PCT_ATTRIBUTE1', 'PCT_ATTRIBUTE2', 'PCT_ATTRIBUTE3', 'PCT_ATTRIBUTE4',\n",
       "       'PEP_STAR', 'RECENT_STAR_STATUS', 'FREQUENCY_STATUS_97NK',\n",
       "       'RECENT_RESPONSE_PROP', 'RECENT_AVG_GIFT_AMT',\n",
       "       'RECENT_CARD_RESPONSE_PROP', 'RECENT_AVG_CARD_GIFT_AMT',\n",
       "       'RECENT_RESPONSE_COUNT', 'RECENT_CARD_RESPONSE_COUNT',\n",
       "       'MONTHS_SINCE_LAST_PROM_RESP', 'LIFETIME_CARD_PROM', 'LIFETIME_PROM',\n",
       "       'LIFETIME_GIFT_AMOUNT', 'LIFETIME_GIFT_COUNT', 'LIFETIME_AVG_GIFT_AMT',\n",
       "       'LIFETIME_GIFT_RANGE', 'LIFETIME_MAX_GIFT_AMT', 'LIFETIME_MIN_GIFT_AMT',\n",
       "       'LAST_GIFT_AMT', 'CARD_PROM_12', 'NUMBER_PROM_12',\n",
       "       'MONTHS_SINCE_LAST_GIFT', 'MONTHS_SINCE_FIRST_GIFT', 'FILE_AVG_GIFT',\n",
       "       'FILE_CARD_GIFT', 'URBANICITY_C', 'URBANICITY_R', 'URBANICITY_S',\n",
       "       'URBANICITY_T', 'URBANICITY_U', 'SES_2', 'SES_3', 'SES_4', 'SES_?',\n",
       "       'HOME_OWNER_U', 'DONOR_GENDER_F', 'DONOR_GENDER_M', 'DONOR_GENDER_U',\n",
       "       'OVERLAY_SOURCE_M', 'OVERLAY_SOURCE_N', 'OVERLAY_SOURCE_P',\n",
       "       'RECENCY_STATUS_96NK_E', 'RECENCY_STATUS_96NK_F',\n",
       "       'RECENCY_STATUS_96NK_L', 'RECENCY_STATUS_96NK_N',\n",
       "       'RECENCY_STATUS_96NK_S'],\n",
       "      dtype='object')"
      ]
     },
     "execution_count": 61,
     "metadata": {},
     "output_type": "execute_result"
    }
   ],
   "source": [
    "#Checking new column names\n",
    "expanded_df.columns"
   ]
  },
  {
   "cell_type": "code",
   "execution_count": null,
   "id": "e997a9de",
   "metadata": {},
   "outputs": [],
   "source": [
    "# spliting the cleaned data into a training set and a testing set"
   ]
  },
  {
   "cell_type": "code",
   "execution_count": 62,
   "id": "121150ad",
   "metadata": {},
   "outputs": [],
   "source": [
    "from sklearn.model_selection import train_test_split"
   ]
  },
  {
   "cell_type": "code",
   "execution_count": 63,
   "id": "e473ede0",
   "metadata": {},
   "outputs": [],
   "source": [
    "X = expanded_df.drop(['TARGET_B','TARGET_D'],axis=1)\n",
    "y= expanded_df['TARGET_B']"
   ]
  },
  {
   "cell_type": "code",
   "execution_count": 64,
   "id": "8b4a7cf4",
   "metadata": {},
   "outputs": [],
   "source": [
    "X_train, X_test, y_train, y_test = train_test_split(X, y, test_size=0.3, random_state=RANDOM_STATE)"
   ]
  },
  {
   "cell_type": "code",
   "execution_count": 65,
   "id": "1feff312",
   "metadata": {},
   "outputs": [],
   "source": [
    "## fit Model (Logistic Regression)"
   ]
  },
  {
   "cell_type": "code",
   "execution_count": 66,
   "id": "cafcb176",
   "metadata": {},
   "outputs": [],
   "source": [
    "estimator = LogisticRegression(random_state=RANDOM_STATE)"
   ]
  },
  {
   "cell_type": "code",
   "execution_count": 67,
   "id": "f421438f",
   "metadata": {},
   "outputs": [
    {
     "name": "stderr",
     "output_type": "stream",
     "text": [
      "C:\\Users\\DELL\\anaconda3\\lib\\site-packages\\sklearn\\linear_model\\_logistic.py:814: ConvergenceWarning: lbfgs failed to converge (status=1):\n",
      "STOP: TOTAL NO. of ITERATIONS REACHED LIMIT.\n",
      "\n",
      "Increase the number of iterations (max_iter) or scale the data as shown in:\n",
      "    https://scikit-learn.org/stable/modules/preprocessing.html\n",
      "Please also refer to the documentation for alternative solver options:\n",
      "    https://scikit-learn.org/stable/modules/linear_model.html#logistic-regression\n",
      "  n_iter_i = _check_optimize_result(\n"
     ]
    },
    {
     "data": {
      "text/plain": [
       "LogisticRegression(random_state=200)"
      ]
     },
     "execution_count": 67,
     "metadata": {},
     "output_type": "execute_result"
    }
   ],
   "source": [
    "estimator.fit(X_train, y_train)"
   ]
  },
  {
   "cell_type": "code",
   "execution_count": 68,
   "id": "30e1f9b4",
   "metadata": {},
   "outputs": [],
   "source": [
    "y_pred = estimator.predict(X_test)\n",
    "\n",
    "\n",
    "y_score = estimator.predict_proba(X_test)[:,0]"
   ]
  },
  {
   "cell_type": "code",
   "execution_count": 70,
   "id": "f30cd474",
   "metadata": {},
   "outputs": [
    {
     "data": {
      "text/plain": [
       "0.7469501568490763"
      ]
     },
     "execution_count": 70,
     "metadata": {},
     "output_type": "execute_result"
    }
   ],
   "source": [
    "accuracy_score(y_test, y_pred)"
   ]
  },
  {
   "cell_type": "code",
   "execution_count": 71,
   "id": "d5e7f6d5",
   "metadata": {},
   "outputs": [
    {
     "data": {
      "text/plain": [
       "array([[4282,    3],\n",
       "       [1449,    4]], dtype=int64)"
      ]
     },
     "execution_count": 71,
     "metadata": {},
     "output_type": "execute_result"
    }
   ],
   "source": [
    "confusion_matrix(y_test, y_pred)"
   ]
  },
  {
   "cell_type": "code",
   "execution_count": 72,
   "id": "4ab7fe9e",
   "metadata": {},
   "outputs": [
    {
     "data": {
      "text/plain": [
       "0.0027529249827942187"
      ]
     },
     "execution_count": 72,
     "metadata": {},
     "output_type": "execute_result"
    }
   ],
   "source": [
    "recall_score(y_test, y_pred)"
   ]
  },
  {
   "cell_type": "code",
   "execution_count": 73,
   "id": "757fd19e",
   "metadata": {},
   "outputs": [
    {
     "name": "stderr",
     "output_type": "stream",
     "text": [
      "C:\\Users\\DELL\\anaconda3\\lib\\site-packages\\sklearn\\linear_model\\_logistic.py:814: ConvergenceWarning: lbfgs failed to converge (status=1):\n",
      "STOP: TOTAL NO. of ITERATIONS REACHED LIMIT.\n",
      "\n",
      "Increase the number of iterations (max_iter) or scale the data as shown in:\n",
      "    https://scikit-learn.org/stable/modules/preprocessing.html\n",
      "Please also refer to the documentation for alternative solver options:\n",
      "    https://scikit-learn.org/stable/modules/linear_model.html#logistic-regression\n",
      "  n_iter_i = _check_optimize_result(\n",
      "C:\\Users\\DELL\\anaconda3\\lib\\site-packages\\sklearn\\linear_model\\_logistic.py:814: ConvergenceWarning: lbfgs failed to converge (status=1):\n",
      "STOP: TOTAL NO. of ITERATIONS REACHED LIMIT.\n",
      "\n",
      "Increase the number of iterations (max_iter) or scale the data as shown in:\n",
      "    https://scikit-learn.org/stable/modules/preprocessing.html\n",
      "Please also refer to the documentation for alternative solver options:\n",
      "    https://scikit-learn.org/stable/modules/linear_model.html#logistic-regression\n",
      "  n_iter_i = _check_optimize_result(\n",
      "C:\\Users\\DELL\\anaconda3\\lib\\site-packages\\sklearn\\linear_model\\_logistic.py:814: ConvergenceWarning: lbfgs failed to converge (status=1):\n",
      "STOP: TOTAL NO. of ITERATIONS REACHED LIMIT.\n",
      "\n",
      "Increase the number of iterations (max_iter) or scale the data as shown in:\n",
      "    https://scikit-learn.org/stable/modules/preprocessing.html\n",
      "Please also refer to the documentation for alternative solver options:\n",
      "    https://scikit-learn.org/stable/modules/linear_model.html#logistic-regression\n",
      "  n_iter_i = _check_optimize_result(\n",
      "C:\\Users\\DELL\\anaconda3\\lib\\site-packages\\sklearn\\linear_model\\_logistic.py:814: ConvergenceWarning: lbfgs failed to converge (status=1):\n",
      "STOP: TOTAL NO. of ITERATIONS REACHED LIMIT.\n",
      "\n",
      "Increase the number of iterations (max_iter) or scale the data as shown in:\n",
      "    https://scikit-learn.org/stable/modules/preprocessing.html\n",
      "Please also refer to the documentation for alternative solver options:\n",
      "    https://scikit-learn.org/stable/modules/linear_model.html#logistic-regression\n",
      "  n_iter_i = _check_optimize_result(\n",
      "C:\\Users\\DELL\\anaconda3\\lib\\site-packages\\sklearn\\linear_model\\_logistic.py:814: ConvergenceWarning: lbfgs failed to converge (status=1):\n",
      "STOP: TOTAL NO. of ITERATIONS REACHED LIMIT.\n",
      "\n",
      "Increase the number of iterations (max_iter) or scale the data as shown in:\n",
      "    https://scikit-learn.org/stable/modules/preprocessing.html\n",
      "Please also refer to the documentation for alternative solver options:\n",
      "    https://scikit-learn.org/stable/modules/linear_model.html#logistic-regression\n",
      "  n_iter_i = _check_optimize_result(\n",
      "C:\\Users\\DELL\\anaconda3\\lib\\site-packages\\sklearn\\linear_model\\_logistic.py:814: ConvergenceWarning: lbfgs failed to converge (status=1):\n",
      "STOP: TOTAL NO. of ITERATIONS REACHED LIMIT.\n",
      "\n",
      "Increase the number of iterations (max_iter) or scale the data as shown in:\n",
      "    https://scikit-learn.org/stable/modules/preprocessing.html\n",
      "Please also refer to the documentation for alternative solver options:\n",
      "    https://scikit-learn.org/stable/modules/linear_model.html#logistic-regression\n",
      "  n_iter_i = _check_optimize_result(\n",
      "C:\\Users\\DELL\\anaconda3\\lib\\site-packages\\sklearn\\linear_model\\_logistic.py:814: ConvergenceWarning: lbfgs failed to converge (status=1):\n",
      "STOP: TOTAL NO. of ITERATIONS REACHED LIMIT.\n",
      "\n",
      "Increase the number of iterations (max_iter) or scale the data as shown in:\n",
      "    https://scikit-learn.org/stable/modules/preprocessing.html\n",
      "Please also refer to the documentation for alternative solver options:\n",
      "    https://scikit-learn.org/stable/modules/linear_model.html#logistic-regression\n",
      "  n_iter_i = _check_optimize_result(\n",
      "C:\\Users\\DELL\\anaconda3\\lib\\site-packages\\sklearn\\linear_model\\_logistic.py:814: ConvergenceWarning: lbfgs failed to converge (status=1):\n",
      "STOP: TOTAL NO. of ITERATIONS REACHED LIMIT.\n",
      "\n",
      "Increase the number of iterations (max_iter) or scale the data as shown in:\n",
      "    https://scikit-learn.org/stable/modules/preprocessing.html\n",
      "Please also refer to the documentation for alternative solver options:\n",
      "    https://scikit-learn.org/stable/modules/linear_model.html#logistic-regression\n",
      "  n_iter_i = _check_optimize_result(\n",
      "C:\\Users\\DELL\\anaconda3\\lib\\site-packages\\sklearn\\linear_model\\_logistic.py:814: ConvergenceWarning: lbfgs failed to converge (status=1):\n",
      "STOP: TOTAL NO. of ITERATIONS REACHED LIMIT.\n",
      "\n",
      "Increase the number of iterations (max_iter) or scale the data as shown in:\n",
      "    https://scikit-learn.org/stable/modules/preprocessing.html\n",
      "Please also refer to the documentation for alternative solver options:\n",
      "    https://scikit-learn.org/stable/modules/linear_model.html#logistic-regression\n",
      "  n_iter_i = _check_optimize_result(\n",
      "C:\\Users\\DELL\\anaconda3\\lib\\site-packages\\sklearn\\linear_model\\_logistic.py:814: ConvergenceWarning: lbfgs failed to converge (status=1):\n",
      "STOP: TOTAL NO. of ITERATIONS REACHED LIMIT.\n",
      "\n",
      "Increase the number of iterations (max_iter) or scale the data as shown in:\n",
      "    https://scikit-learn.org/stable/modules/preprocessing.html\n",
      "Please also refer to the documentation for alternative solver options:\n",
      "    https://scikit-learn.org/stable/modules/linear_model.html#logistic-regression\n",
      "  n_iter_i = _check_optimize_result(\n"
     ]
    },
    {
     "name": "stdout",
     "output_type": "stream",
     "text": [
      "LR: 0.748459 (0.007114)\n",
      "LDA: 0.749556 (0.007145)\n"
     ]
    },
    {
     "name": "stderr",
     "output_type": "stream",
     "text": [
      "C:\\Users\\DELL\\anaconda3\\lib\\site-packages\\sklearn\\neighbors\\_classification.py:228: FutureWarning: Unlike other reduction functions (e.g. `skew`, `kurtosis`), the default behavior of `mode` typically preserves the axis it acts along. In SciPy 1.11.0, this behavior will change: the default value of `keepdims` will become False, the `axis` over which the statistic is taken will be eliminated, and the value None will no longer be accepted. Set `keepdims` to True or False to avoid this warning.\n",
      "  mode, _ = stats.mode(_y[neigh_ind, k], axis=1)\n",
      "C:\\Users\\DELL\\anaconda3\\lib\\site-packages\\sklearn\\neighbors\\_classification.py:228: FutureWarning: Unlike other reduction functions (e.g. `skew`, `kurtosis`), the default behavior of `mode` typically preserves the axis it acts along. In SciPy 1.11.0, this behavior will change: the default value of `keepdims` will become False, the `axis` over which the statistic is taken will be eliminated, and the value None will no longer be accepted. Set `keepdims` to True or False to avoid this warning.\n",
      "  mode, _ = stats.mode(_y[neigh_ind, k], axis=1)\n",
      "C:\\Users\\DELL\\anaconda3\\lib\\site-packages\\sklearn\\neighbors\\_classification.py:228: FutureWarning: Unlike other reduction functions (e.g. `skew`, `kurtosis`), the default behavior of `mode` typically preserves the axis it acts along. In SciPy 1.11.0, this behavior will change: the default value of `keepdims` will become False, the `axis` over which the statistic is taken will be eliminated, and the value None will no longer be accepted. Set `keepdims` to True or False to avoid this warning.\n",
      "  mode, _ = stats.mode(_y[neigh_ind, k], axis=1)\n",
      "C:\\Users\\DELL\\anaconda3\\lib\\site-packages\\sklearn\\neighbors\\_classification.py:228: FutureWarning: Unlike other reduction functions (e.g. `skew`, `kurtosis`), the default behavior of `mode` typically preserves the axis it acts along. In SciPy 1.11.0, this behavior will change: the default value of `keepdims` will become False, the `axis` over which the statistic is taken will be eliminated, and the value None will no longer be accepted. Set `keepdims` to True or False to avoid this warning.\n",
      "  mode, _ = stats.mode(_y[neigh_ind, k], axis=1)\n",
      "C:\\Users\\DELL\\anaconda3\\lib\\site-packages\\sklearn\\neighbors\\_classification.py:228: FutureWarning: Unlike other reduction functions (e.g. `skew`, `kurtosis`), the default behavior of `mode` typically preserves the axis it acts along. In SciPy 1.11.0, this behavior will change: the default value of `keepdims` will become False, the `axis` over which the statistic is taken will be eliminated, and the value None will no longer be accepted. Set `keepdims` to True or False to avoid this warning.\n",
      "  mode, _ = stats.mode(_y[neigh_ind, k], axis=1)\n",
      "C:\\Users\\DELL\\anaconda3\\lib\\site-packages\\sklearn\\neighbors\\_classification.py:228: FutureWarning: Unlike other reduction functions (e.g. `skew`, `kurtosis`), the default behavior of `mode` typically preserves the axis it acts along. In SciPy 1.11.0, this behavior will change: the default value of `keepdims` will become False, the `axis` over which the statistic is taken will be eliminated, and the value None will no longer be accepted. Set `keepdims` to True or False to avoid this warning.\n",
      "  mode, _ = stats.mode(_y[neigh_ind, k], axis=1)\n",
      "C:\\Users\\DELL\\anaconda3\\lib\\site-packages\\sklearn\\neighbors\\_classification.py:228: FutureWarning: Unlike other reduction functions (e.g. `skew`, `kurtosis`), the default behavior of `mode` typically preserves the axis it acts along. In SciPy 1.11.0, this behavior will change: the default value of `keepdims` will become False, the `axis` over which the statistic is taken will be eliminated, and the value None will no longer be accepted. Set `keepdims` to True or False to avoid this warning.\n",
      "  mode, _ = stats.mode(_y[neigh_ind, k], axis=1)\n",
      "C:\\Users\\DELL\\anaconda3\\lib\\site-packages\\sklearn\\neighbors\\_classification.py:228: FutureWarning: Unlike other reduction functions (e.g. `skew`, `kurtosis`), the default behavior of `mode` typically preserves the axis it acts along. In SciPy 1.11.0, this behavior will change: the default value of `keepdims` will become False, the `axis` over which the statistic is taken will be eliminated, and the value None will no longer be accepted. Set `keepdims` to True or False to avoid this warning.\n",
      "  mode, _ = stats.mode(_y[neigh_ind, k], axis=1)\n",
      "C:\\Users\\DELL\\anaconda3\\lib\\site-packages\\sklearn\\neighbors\\_classification.py:228: FutureWarning: Unlike other reduction functions (e.g. `skew`, `kurtosis`), the default behavior of `mode` typically preserves the axis it acts along. In SciPy 1.11.0, this behavior will change: the default value of `keepdims` will become False, the `axis` over which the statistic is taken will be eliminated, and the value None will no longer be accepted. Set `keepdims` to True or False to avoid this warning.\n",
      "  mode, _ = stats.mode(_y[neigh_ind, k], axis=1)\n",
      "C:\\Users\\DELL\\anaconda3\\lib\\site-packages\\sklearn\\neighbors\\_classification.py:228: FutureWarning: Unlike other reduction functions (e.g. `skew`, `kurtosis`), the default behavior of `mode` typically preserves the axis it acts along. In SciPy 1.11.0, this behavior will change: the default value of `keepdims` will become False, the `axis` over which the statistic is taken will be eliminated, and the value None will no longer be accepted. Set `keepdims` to True or False to avoid this warning.\n",
      "  mode, _ = stats.mode(_y[neigh_ind, k], axis=1)\n"
     ]
    },
    {
     "name": "stdout",
     "output_type": "stream",
     "text": [
      "KNN: 0.700984 (0.007141)\n",
      "CART: 0.631130 (0.008449)\n",
      "RF: 0.748093 (0.008503)\n",
      "NB: 0.691416 (0.012570)\n",
      "SVM: 0.748825 (0.006903)\n"
     ]
    },
    {
     "data": {
      "image/png": "[encoded data removed]",
      "text/plain": [
       "<Figure size 640x480 with 1 Axes>"
      ]
     },
     "metadata": {},
     "output_type": "display_data"
    }
   ],
   "source": [
    "from sklearn.linear_model import LogisticRegression\n",
    "from sklearn.tree import DecisionTreeClassifier\n",
    "from sklearn.ensemble import RandomForestClassifier\n",
    "from sklearn.neighbors import KNeighborsClassifier\n",
    "from sklearn.discriminant_analysis import LinearDiscriminantAnalysis\n",
    "from sklearn.naive_bayes import GaussianNB\n",
    "from sklearn.svm import SVC\n",
    "\n",
    "from sklearn import model_selection\n",
    "\n",
    "# prepare configuration for cross validation test harness\n",
    "seed = 7\n",
    "\n",
    "# prepare models\n",
    "models = []\n",
    "models.append(('LR', LogisticRegression()))\n",
    "models.append(('LDA', LinearDiscriminantAnalysis()))\n",
    "models.append(('KNN', KNeighborsClassifier()))\n",
    "models.append(('CART', DecisionTreeClassifier()))\n",
    "models.append(('RF', RandomForestClassifier()))\n",
    "models.append(('NB', GaussianNB()))\n",
    "models.append(('SVM', SVC()))\n",
    "# evaluate each model in turn\n",
    "results = []\n",
    "names = []\n",
    "scoring = 'accuracy' # or, better still fbeta\n",
    "for name, model in models:\n",
    "\tkfold = model_selection.KFold(n_splits=10, random_state=seed, shuffle=True)\n",
    "\tcv_results = model_selection.cross_val_score(model, X, y, cv=kfold, scoring=scoring)\n",
    "\tresults.append(cv_results)\n",
    "\tnames.append(name)\n",
    "\tmsg = \"%s: %f (%f)\" % (name, cv_results.mean(), cv_results.std())\n",
    "\tprint(msg)\n",
    "# boxplot algorithm comparison\n",
    "fig = plt.figure()\n",
    "fig.suptitle('Algorithm Comparison')\n",
    "ax = fig.add_subplot(111)\n",
    "plt.boxplot(results)\n",
    "ax.set_xticklabels(names)\n",
    "plt.show()"
   ]
  },
  {
   "cell_type": "code",
   "execution_count": 74,
   "id": "c601d6b9",
   "metadata": {},
   "outputs": [],
   "source": [
    "# The random forest gave the best accuracy (74.8%)\n"
   ]
  },
  {
   "cell_type": "code",
   "execution_count": 76,
   "id": "ca4220df",
   "metadata": {},
   "outputs": [
    {
     "data": {
      "text/plain": [
       "RandomForestClassifier(max_leaf_nodes=5, min_samples_leaf=20,\n",
       "                       min_samples_split=5, n_estimators=50)"
      ]
     },
     "execution_count": 76,
     "metadata": {},
     "output_type": "execute_result"
    }
   ],
   "source": [
    "# Create the random forest instance, and train it with training data\n",
    "from sklearn.ensemble import RandomForestClassifier\n",
    "\n",
    "rf = RandomForestClassifier (n_estimators = 100)\n",
    "\n",
    "rf2 = RandomForestClassifier (n_estimators = 50, max_leaf_nodes= 5,\n",
    "            min_samples_leaf=20, min_samples_split=5)\n",
    "\n",
    "rf.fit(X_train,y_train.values.ravel())\n",
    "\n",
    "rf2.fit(X_train,y_train.values.ravel())"
   ]
  },
  {
   "cell_type": "code",
   "execution_count": 77,
   "id": "8b2a5a24",
   "metadata": {},
   "outputs": [
    {
     "name": "stdout",
     "output_type": "stream",
     "text": [
      "My first model accuracy is = 74.6253049843151%\n",
      "My second model accuracy is = 74.6775880097595%\n"
     ]
    }
   ],
   "source": [
    "accuracy = rf.score(X_test, y_test)\n",
    "print('My first model accuracy is = {}%'.format(accuracy*100))\n",
    "\n",
    "accuracy = rf2.score(X_test, y_test)\n",
    "print('My second model accuracy is = {}%'.format(accuracy*100))"
   ]
  },
  {
   "cell_type": "code",
   "execution_count": 78,
   "id": "d1a2799a",
   "metadata": {},
   "outputs": [
    {
     "name": "stdout",
     "output_type": "stream",
     "text": [
      "Feature ranking:\n",
      "1. feature 0 (0.042508)\n",
      "2. feature 9 (0.038821)\n",
      "3. feature 12 (0.037707)\n",
      "4. feature 10 (0.036566)\n",
      "5. feature 11 (0.034098)\n",
      "6. feature 16 (0.033908)\n",
      "7. feature 14 (0.031994)\n",
      "8. feature 15 (0.031945)\n",
      "9. feature 20 (0.030144)\n",
      "10. feature 31 (0.029900)\n",
      "11. feature 2 (0.029898)\n",
      "12. feature 40 (0.029807)\n",
      "13. feature 29 (0.029334)\n",
      "14. feature 4 (0.029177)\n",
      "15. feature 28 (0.027762)\n",
      "16. feature 21 (0.027298)\n",
      "17. feature 39 (0.027295)\n",
      "18. feature 27 (0.022734)\n",
      "19. feature 37 (0.022223)\n",
      "20. feature 23 (0.022151)\n",
      "21. feature 38 (0.021891)\n",
      "22. feature 30 (0.021224)\n",
      "23. feature 22 (0.021089)\n",
      "24. feature 32 (0.020429)\n",
      "25. feature 26 (0.020392)\n",
      "26. feature 35 (0.018796)\n",
      "27. feature 41 (0.018508)\n",
      "28. feature 8 (0.018266)\n",
      "29. feature 7 (0.018179)\n",
      "30. feature 33 (0.017664)\n",
      "31. feature 5 (0.016936)\n",
      "32. feature 34 (0.014323)\n",
      "33. feature 24 (0.013902)\n",
      "34. feature 1 (0.013271)\n",
      "35. feature 36 (0.012097)\n",
      "36. feature 25 (0.011403)\n",
      "37. feature 13 (0.010330)\n",
      "38. feature 19 (0.009559)\n",
      "39. feature 18 (0.006707)\n",
      "40. feature 6 (0.006026)\n",
      "41. feature 51 (0.005368)\n",
      "42. feature 53 (0.005295)\n",
      "43. feature 17 (0.005132)\n",
      "44. feature 52 (0.005117)\n",
      "45. feature 47 (0.004953)\n",
      "46. feature 57 (0.004634)\n",
      "47. feature 45 (0.004367)\n",
      "48. feature 44 (0.004363)\n",
      "49. feature 42 (0.004196)\n",
      "50. feature 56 (0.003965)\n",
      "51. feature 43 (0.003434)\n",
      "52. feature 48 (0.003255)\n",
      "53. feature 55 (0.003237)\n",
      "54. feature 46 (0.003034)\n",
      "55. feature 62 (0.003031)\n",
      "56. feature 54 (0.002659)\n",
      "57. feature 3 (0.002160)\n",
      "58. feature 61 (0.001330)\n",
      "59. feature 50 (0.001121)\n",
      "60. feature 58 (0.001087)\n",
      "61. feature 49 (0.000811)\n",
      "62. feature 59 (0.000799)\n",
      "63. feature 60 (0.000388)\n"
     ]
    }
   ],
   "source": [
    "importances = rf.feature_importances_\n",
    "std = np.std([tree.feature_importances_ for tree in rf.estimators_],\n",
    "             axis=0)\n",
    "indices = np.argsort(importances)[::-1]\n",
    "\n",
    "# Print the feature ranking\n",
    "print(\"Feature ranking:\")\n",
    "\n",
    "for f in range(X.shape[1]):\n",
    "    print(\"%d. feature %d (%f)\" % (f + 1, indices[f], importances[indices[f]]))"
   ]
  },
  {
   "cell_type": "code",
   "execution_count": 79,
   "id": "1557dad2",
   "metadata": {},
   "outputs": [
    {
     "data": {
      "image/png": "[encoded data removed]",
      "text/plain": [
       "<Figure size 1500x600 with 1 Axes>"
      ]
     },
     "metadata": {},
     "output_type": "display_data"
    }
   ],
   "source": [
    "# Plot the feature importances of the forest\n",
    "plt.figure(figsize=(15,6))\n",
    "plt.title(\"Feature importances\")\n",
    "plt.bar(range(X.shape[1]), importances[indices],\n",
    "       color=\"b\", yerr=std[indices], align=\"center\")\n",
    "plt.xticks(range(X.shape[1]), indices)\n",
    "plt.xlim([-1, X.shape[1]])\n",
    "plt.show()"
   ]
  },
  {
   "cell_type": "code",
   "execution_count": 83,
   "id": "2d2c3064",
   "metadata": {},
   "outputs": [],
   "source": [
    "#Using the model developed  to evaluate the prospective donor file\n",
    "df = pd.read_csv('C:\\\\Users\\\\DELL\\\\Desktop\\\\Prospective Donor.csv')"
   ]
  },
  {
   "cell_type": "code",
   "execution_count": 84,
   "id": "aea292ad",
   "metadata": {},
   "outputs": [
    {
     "name": "stdout",
     "output_type": "stream",
     "text": [
      "<class 'pandas.core.frame.DataFrame'>\n",
      "RangeIndex: 2148 entries, 0 to 2147\n",
      "Data columns (total 48 columns):\n",
      " #   Column                       Non-Null Count  Dtype  \n",
      "---  ------                       --------------  -----  \n",
      " 0   CONTROL_NUMBER               2148 non-null   int64  \n",
      " 1   MONTHS_SINCE_ORIGIN          2148 non-null   int64  \n",
      " 2   DONOR_AGE                    1619 non-null   float64\n",
      " 3   IN_HOUSE                     2148 non-null   int64  \n",
      " 4   URBANICITY                   2148 non-null   object \n",
      " 5   SES                          2148 non-null   object \n",
      " 6   CLUSTER_CODE                 2148 non-null   object \n",
      " 7   HOME_OWNER                   2148 non-null   object \n",
      " 8   DONOR_GENDER                 2148 non-null   object \n",
      " 9   INCOME_GROUP                 1667 non-null   float64\n",
      " 10  PUBLISHED_PHONE              2148 non-null   int64  \n",
      " 11  OVERLAY_SOURCE               2148 non-null   object \n",
      " 12  MOR_HIT_RATE                 2148 non-null   int64  \n",
      " 13  WEALTH_RATING                1142 non-null   float64\n",
      " 14  MEDIAN_HOME_VALUE            2148 non-null   int64  \n",
      " 15  MEDIAN_HOUSEHOLD_INCOME      2148 non-null   int64  \n",
      " 16  PCT_OWNER_OCCUPIED           2148 non-null   int64  \n",
      " 17  PER_CAPITA_INCOME            2148 non-null   int64  \n",
      " 18  PCT_ATTRIBUTE1               2148 non-null   int64  \n",
      " 19  PCT_ATTRIBUTE2               2148 non-null   int64  \n",
      " 20  PCT_ATTRIBUTE3               2148 non-null   int64  \n",
      " 21  PCT_ATTRIBUTE4               2148 non-null   int64  \n",
      " 22  PEP_STAR                     2148 non-null   int64  \n",
      " 23  RECENT_STAR_STATUS           2148 non-null   int64  \n",
      " 24  RECENCY_STATUS_96NK          2148 non-null   object \n",
      " 25  FREQUENCY_STATUS_97NK        2148 non-null   int64  \n",
      " 26  RECENT_RESPONSE_PROP         2148 non-null   float64\n",
      " 27  RECENT_AVG_GIFT_AMT          2148 non-null   float64\n",
      " 28  RECENT_CARD_RESPONSE_PROP    2148 non-null   float64\n",
      " 29  RECENT_AVG_CARD_GIFT_AMT     2148 non-null   float64\n",
      " 30  RECENT_RESPONSE_COUNT        2148 non-null   int64  \n",
      " 31  RECENT_CARD_RESPONSE_COUNT   2148 non-null   int64  \n",
      " 32  MONTHS_SINCE_LAST_PROM_RESP  2122 non-null   float64\n",
      " 33  LIFETIME_CARD_PROM           2148 non-null   int64  \n",
      " 34  LIFETIME_PROM                2148 non-null   int64  \n",
      " 35  LIFETIME_GIFT_AMOUNT         2148 non-null   float64\n",
      " 36  LIFETIME_GIFT_COUNT          2148 non-null   int64  \n",
      " 37  LIFETIME_AVG_GIFT_AMT        2148 non-null   float64\n",
      " 38  LIFETIME_GIFT_RANGE          2148 non-null   float64\n",
      " 39  LIFETIME_MAX_GIFT_AMT        2148 non-null   float64\n",
      " 40  LIFETIME_MIN_GIFT_AMT        2148 non-null   float64\n",
      " 41  LAST_GIFT_AMT                2148 non-null   float64\n",
      " 42  CARD_PROM_12                 2148 non-null   int64  \n",
      " 43  NUMBER_PROM_12               2148 non-null   int64  \n",
      " 44  MONTHS_SINCE_LAST_GIFT       2148 non-null   int64  \n",
      " 45  MONTHS_SINCE_FIRST_GIFT      2148 non-null   int64  \n",
      " 46  FILE_AVG_GIFT                2148 non-null   float64\n",
      " 47  FILE_CARD_GIFT               2148 non-null   int64  \n",
      "dtypes: float64(15), int64(26), object(7)\n",
      "memory usage: 805.6+ KB\n"
     ]
    }
   ],
   "source": [
    "df.info()"
   ]
  },
  {
   "cell_type": "code",
   "execution_count": 85,
   "id": "ee969bad",
   "metadata": {},
   "outputs": [],
   "source": [
    "# Cleaning the Prospective donor data(checking for Null values, deletion and subtitution with median values)"
   ]
  },
  {
   "cell_type": "code",
   "execution_count": 86,
   "id": "a3209dbc",
   "metadata": {},
   "outputs": [
    {
     "data": {
      "text/plain": [
       "CONTROL_NUMBER                    0\n",
       "MONTHS_SINCE_ORIGIN               0\n",
       "DONOR_AGE                       529\n",
       "IN_HOUSE                          0\n",
       "URBANICITY                        0\n",
       "SES                               0\n",
       "CLUSTER_CODE                      0\n",
       "HOME_OWNER                        0\n",
       "DONOR_GENDER                      0\n",
       "INCOME_GROUP                    481\n",
       "PUBLISHED_PHONE                   0\n",
       "OVERLAY_SOURCE                    0\n",
       "MOR_HIT_RATE                      0\n",
       "WEALTH_RATING                  1006\n",
       "MEDIAN_HOME_VALUE                 0\n",
       "MEDIAN_HOUSEHOLD_INCOME           0\n",
       "PCT_OWNER_OCCUPIED                0\n",
       "PER_CAPITA_INCOME                 0\n",
       "PCT_ATTRIBUTE1                    0\n",
       "PCT_ATTRIBUTE2                    0\n",
       "PCT_ATTRIBUTE3                    0\n",
       "PCT_ATTRIBUTE4                    0\n",
       "PEP_STAR                          0\n",
       "RECENT_STAR_STATUS                0\n",
       "RECENCY_STATUS_96NK               0\n",
       "FREQUENCY_STATUS_97NK             0\n",
       "RECENT_RESPONSE_PROP              0\n",
       "RECENT_AVG_GIFT_AMT               0\n",
       "RECENT_CARD_RESPONSE_PROP         0\n",
       "RECENT_AVG_CARD_GIFT_AMT          0\n",
       "RECENT_RESPONSE_COUNT             0\n",
       "RECENT_CARD_RESPONSE_COUNT        0\n",
       "MONTHS_SINCE_LAST_PROM_RESP      26\n",
       "LIFETIME_CARD_PROM                0\n",
       "LIFETIME_PROM                     0\n",
       "LIFETIME_GIFT_AMOUNT              0\n",
       "LIFETIME_GIFT_COUNT               0\n",
       "LIFETIME_AVG_GIFT_AMT             0\n",
       "LIFETIME_GIFT_RANGE               0\n",
       "LIFETIME_MAX_GIFT_AMT             0\n",
       "LIFETIME_MIN_GIFT_AMT             0\n",
       "LAST_GIFT_AMT                     0\n",
       "CARD_PROM_12                      0\n",
       "NUMBER_PROM_12                    0\n",
       "MONTHS_SINCE_LAST_GIFT            0\n",
       "MONTHS_SINCE_FIRST_GIFT           0\n",
       "FILE_AVG_GIFT                     0\n",
       "FILE_CARD_GIFT                    0\n",
       "dtype: int64"
      ]
     },
     "execution_count": 86,
     "metadata": {},
     "output_type": "execute_result"
    }
   ],
   "source": [
    "df.isnull().sum()"
   ]
  },
  {
   "cell_type": "code",
   "execution_count": 87,
   "id": "866490d8",
   "metadata": {},
   "outputs": [],
   "source": [
    "#1)Donor_Age, \n",
    "#2)Income_Group, \n",
    "#3)Wealth_Rating,\n",
    "#4)Months_Since_Last_Prom_Response"
   ]
  },
  {
   "cell_type": "code",
   "execution_count": 88,
   "id": "06075a42",
   "metadata": {},
   "outputs": [
    {
     "data": {
      "text/plain": [
       "59.0"
      ]
     },
     "execution_count": 88,
     "metadata": {},
     "output_type": "execute_result"
    }
   ],
   "source": [
    "df['DONOR_AGE'].median()"
   ]
  },
  {
   "cell_type": "code",
   "execution_count": 89,
   "id": "4be6ee68",
   "metadata": {},
   "outputs": [],
   "source": [
    "df.DONOR_AGE.replace(np.nan, 59.0, inplace=True)"
   ]
  },
  {
   "cell_type": "code",
   "execution_count": 90,
   "id": "99e1c32c",
   "metadata": {},
   "outputs": [
    {
     "data": {
      "text/plain": [
       "4.0"
      ]
     },
     "execution_count": 90,
     "metadata": {},
     "output_type": "execute_result"
    }
   ],
   "source": [
    "df['INCOME_GROUP'].median()"
   ]
  },
  {
   "cell_type": "code",
   "execution_count": 91,
   "id": "b4cf88c7",
   "metadata": {},
   "outputs": [],
   "source": [
    "def impute_icg(cols):\n",
    "    icg = cols[0]\n",
    "    \n",
    "    if pd.isnull(icg):\n",
    "        return 4\n",
    "    else:\n",
    "        return icg"
   ]
  },
  {
   "cell_type": "code",
   "execution_count": 92,
   "id": "0d9ea779",
   "metadata": {},
   "outputs": [],
   "source": [
    "df['INCOME_GROUP'] = df[['INCOME_GROUP']].apply(impute_icg,axis=1)"
   ]
  },
  {
   "cell_type": "code",
   "execution_count": 95,
   "id": "ffc2833c",
   "metadata": {},
   "outputs": [
    {
     "data": {
      "text/plain": [
       "<AxesSubplot:xlabel='INCOME_GROUP', ylabel='WEALTH_RATING'>"
      ]
     },
     "execution_count": 95,
     "metadata": {},
     "output_type": "execute_result"
    },
    {
     "data": {
      "image/png": "[encoded data removed]",
      "text/plain": [
       "<Figure size 1200x700 with 1 Axes>"
      ]
     },
     "metadata": {},
     "output_type": "display_data"
    }
   ],
   "source": [
    "plt.figure(figsize=(12, 7))\n",
    "sns.boxplot(y='WEALTH_RATING',x='INCOME_GROUP',data=df,palette='summer')"
   ]
  },
  {
   "cell_type": "code",
   "execution_count": 96,
   "id": "3e165ba0",
   "metadata": {},
   "outputs": [],
   "source": [
    "# this shows that the higher the income group, the higher the wealth rating.(there is an established relationship)"
   ]
  },
  {
   "cell_type": "code",
   "execution_count": 97,
   "id": "f9c99891",
   "metadata": {},
   "outputs": [],
   "source": [
    "def impute_wealthr(cols):\n",
    "    wealthr = cols[0]\n",
    "    incomeg = cols[1]\n",
    "    \n",
    "    if pd.isnull(wealthr):\n",
    "\n",
    "        if incomeg == 1:\n",
    "            return 3\n",
    "\n",
    "        elif incomeg == 2:\n",
    "            return 3\n",
    "        \n",
    "        elif incomeg == 3:\n",
    "            return 5\n",
    "        \n",
    "        elif incomeg == 4:\n",
    "            return 5\n",
    "        \n",
    "        elif incomeg == 5:\n",
    "            return 7\n",
    "        \n",
    "        elif incomeg == 6:\n",
    "            return 7\n",
    "        \n",
    "        else:\n",
    "            return 8\n",
    "\n",
    "    else:\n",
    "        return wealthr"
   ]
  },
  {
   "cell_type": "code",
   "execution_count": 98,
   "id": "27a18882",
   "metadata": {},
   "outputs": [],
   "source": [
    "df['WEALTH_RATING'] = df[['WEALTH_RATING','INCOME_GROUP']].apply(impute_wealthr,axis=1)"
   ]
  },
  {
   "cell_type": "code",
   "execution_count": 99,
   "id": "1ae71c1a",
   "metadata": {},
   "outputs": [],
   "source": [
    "df['MONTHS_SINCE_LAST_PROM_RESP'] = df['MONTHS_SINCE_LAST_PROM_RESP'].replace('', np.nan)\n",
    "df = df.dropna(axis=0, subset=['MONTHS_SINCE_LAST_PROM_RESP'])"
   ]
  },
  {
   "cell_type": "code",
   "execution_count": 100,
   "id": "499b256c",
   "metadata": {},
   "outputs": [],
   "source": [
    "df['CLUSTER_CODE'].replace(' .',0,inplace = True)"
   ]
  },
  {
   "cell_type": "code",
   "execution_count": 101,
   "id": "e13e5f69",
   "metadata": {},
   "outputs": [],
   "source": [
    "expanded_df =pd.get_dummies(df, columns=['URBANICITY','SES','HOME_OWNER', 'DONOR_GENDER', 'OVERLAY_SOURCE', 'RECENCY_STATUS_96NK'], drop_first = True)\n",
    "#print(expanded_data.head())"
   ]
  },
  {
   "cell_type": "code",
   "execution_count": 102,
   "id": "3f91c7a6",
   "metadata": {},
   "outputs": [
    {
     "data": {
      "text/plain": [
       "Index(['CONTROL_NUMBER', 'MONTHS_SINCE_ORIGIN', 'DONOR_AGE', 'IN_HOUSE',\n",
       "       'CLUSTER_CODE', 'INCOME_GROUP', 'PUBLISHED_PHONE', 'MOR_HIT_RATE',\n",
       "       'WEALTH_RATING', 'MEDIAN_HOME_VALUE', 'MEDIAN_HOUSEHOLD_INCOME',\n",
       "       'PCT_OWNER_OCCUPIED', 'PER_CAPITA_INCOME', 'PCT_ATTRIBUTE1',\n",
       "       'PCT_ATTRIBUTE2', 'PCT_ATTRIBUTE3', 'PCT_ATTRIBUTE4', 'PEP_STAR',\n",
       "       'RECENT_STAR_STATUS', 'FREQUENCY_STATUS_97NK', 'RECENT_RESPONSE_PROP',\n",
       "       'RECENT_AVG_GIFT_AMT', 'RECENT_CARD_RESPONSE_PROP',\n",
       "       'RECENT_AVG_CARD_GIFT_AMT', 'RECENT_RESPONSE_COUNT',\n",
       "       'RECENT_CARD_RESPONSE_COUNT', 'MONTHS_SINCE_LAST_PROM_RESP',\n",
       "       'LIFETIME_CARD_PROM', 'LIFETIME_PROM', 'LIFETIME_GIFT_AMOUNT',\n",
       "       'LIFETIME_GIFT_COUNT', 'LIFETIME_AVG_GIFT_AMT', 'LIFETIME_GIFT_RANGE',\n",
       "       'LIFETIME_MAX_GIFT_AMT', 'LIFETIME_MIN_GIFT_AMT', 'LAST_GIFT_AMT',\n",
       "       'CARD_PROM_12', 'NUMBER_PROM_12', 'MONTHS_SINCE_LAST_GIFT',\n",
       "       'MONTHS_SINCE_FIRST_GIFT', 'FILE_AVG_GIFT', 'FILE_CARD_GIFT',\n",
       "       'URBANICITY_C', 'URBANICITY_R', 'URBANICITY_S', 'URBANICITY_T',\n",
       "       'URBANICITY_U', 'SES_2', 'SES_3', 'SES_4', 'SES_?', 'HOME_OWNER_U',\n",
       "       'DONOR_GENDER_M', 'DONOR_GENDER_U', 'OVERLAY_SOURCE_M',\n",
       "       'OVERLAY_SOURCE_N', 'OVERLAY_SOURCE_P', 'RECENCY_STATUS_96NK_E',\n",
       "       'RECENCY_STATUS_96NK_F', 'RECENCY_STATUS_96NK_L',\n",
       "       'RECENCY_STATUS_96NK_N', 'RECENCY_STATUS_96NK_S'],\n",
       "      dtype='object')"
      ]
     },
     "execution_count": 102,
     "metadata": {},
     "output_type": "execute_result"
    }
   ],
   "source": [
    "expanded_df.columns"
   ]
  },
  {
   "cell_type": "code",
   "execution_count": 103,
   "id": "784c93e7",
   "metadata": {},
   "outputs": [],
   "source": [
    "# Predicting the outcome of the prospective donors"
   ]
  },
  {
   "cell_type": "code",
   "execution_count": 104,
   "id": "80226474",
   "metadata": {},
   "outputs": [
    {
     "name": "stdout",
     "output_type": "stream",
     "text": [
      "      CONTROL_NUMBER  prediction\n",
      "1                142           1\n",
      "7                665           1\n",
      "9                743           1\n",
      "10               788           1\n",
      "14               968           1\n",
      "...              ...         ...\n",
      "2127          190018           1\n",
      "2128          190099           1\n",
      "2134          190412           1\n",
      "2142          190840           1\n",
      "2147          191710           1\n",
      "\n",
      "[448 rows x 2 columns]\n"
     ]
    },
    {
     "name": "stderr",
     "output_type": "stream",
     "text": [
      "C:\\Users\\DELL\\AppData\\Local\\Temp\\ipykernel_2824\\1826457904.py:3: SettingWithCopyWarning: \n",
      "A value is trying to be set on a copy of a slice from a DataFrame.\n",
      "Try using .loc[row_indexer,col_indexer] = value instead\n",
      "\n",
      "See the caveats in the documentation: https://pandas.pydata.org/pandas-docs/stable/user_guide/indexing.html#returning-a-view-versus-a-copy\n",
      "  prospective['prediction']= prediction\n"
     ]
    }
   ],
   "source": [
    "prediction = pd.Series(rf.predict(X))\n",
    "prospective = df[['CONTROL_NUMBER']]\n",
    "prospective['prediction']= prediction\n",
    "print(prospective.loc[prospective['prediction'] ==1])"
   ]
  },
  {
   "cell_type": "code",
   "execution_count": 105,
   "id": "c91d317d",
   "metadata": {},
   "outputs": [],
   "source": [
    "# Evaluating the accuraccy of the model"
   ]
  },
  {
   "cell_type": "code",
   "execution_count": 107,
   "id": "c8e8ade7",
   "metadata": {},
   "outputs": [
    {
     "name": "stdout",
     "output_type": "stream",
     "text": [
      "Evaluated model accuracy = 92.3873261528809%\n"
     ]
    }
   ],
   "source": [
    "accuracy = rf.score(X, y)\n",
    "print('Evaluated model accuracy = {}%'.format(accuracy*100))"
   ]
  },
  {
   "cell_type": "code",
   "execution_count": null,
   "id": "102bb2e7",
   "metadata": {},
   "outputs": [],
   "source": []
  }
 ],
 "metadata": {
  "kernelspec": {
   "display_name": "Python 3 (ipykernel)",
   "language": "python",
   "name": "python3"
  },
  "language_info": {
   "codemirror_mode": {
    "name": "ipython",
    "version": 3
   },
   "file_extension": ".py",
   "mimetype": "text/x-python",
   "name": "python",
   "nbconvert_exporter": "python",
   "pygments_lexer": "ipython3",
   "version": "3.9.13"
  }
 },
 "nbformat": 4,
 "nbformat_minor": 5
}
